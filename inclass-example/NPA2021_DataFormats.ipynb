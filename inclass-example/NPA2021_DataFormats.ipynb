{
  "nbformat": 4,
  "nbformat_minor": 0,
  "metadata": {
    "colab": {
      "provenance": []
    },
    "kernelspec": {
      "name": "python3",
      "display_name": "Python 3"
    }
  },
  "cells": [
    {
      "cell_type": "markdown",
      "source": [
        "# XML"
      ],
      "metadata": {
        "id": "WM4ww1qpizHf"
      }
    },
    {
      "cell_type": "markdown",
      "metadata": {
        "id": "Hh5Kb1XLmel-"
      },
      "source": [
        "1.   **eXtensible** Markup Language - What is the meaning of extensible?\n",
        "2.   Carries the data, does not present it. \n",
        "3. public and open\n",
        "\n",
        "\n",
        "\n"
      ]
    },
    {
      "cell_type": "markdown",
      "metadata": {
        "id": "jPdgwGqs3bRr"
      },
      "source": [
        "## An Example"
      ]
    },
    {
      "cell_type": "markdown",
      "metadata": {
        "id": "idFuGKdN3sDg"
      },
      "source": [
        "```\n",
        "<bookstore>\n",
        "   <book category=\"cooking\">\n",
        "       <title lang=\"en\">Everyday Italian</title>\n",
        "       <author>Giada De Laurentiis</author>\n",
        "       <year>2005</year>\n",
        "       <price>30.00</price> </book>\n",
        "   <book category=\"children\">\n",
        "       <title lang=\"en\">Harry Potter</title>\n",
        "       <author>J K. Rowling</author>\n",
        "       <year>2005</year>\n",
        "       <price>29.99</price> </book>\n",
        "   <book category=\"web\">\n",
        "       <title lang=\"en\">XQuery Kick Start</title>\n",
        "       <author>James McGovern</author>\n",
        "       <author>Per Bothner</author>\n",
        "       <author>Kurt Cagle</author>\n",
        "       <author>James Linn</author>\n",
        "       <author>Vaidyanathan Nagarajan</author>\n",
        "       <year>2003</year>\n",
        "       <price>49.99</price> </book>\n",
        "   <book category=\"web\" cover=\"paperback\">\n",
        "       <title lang=\"en\">Learning XML</title>\n",
        "       <author>Erik T. Ray</author>\n",
        "       <year>2003</year>\n",
        "       <price>39.95</price> </book>\n",
        "</bookstore>\n",
        "```"
      ]
    },
    {
      "cell_type": "markdown",
      "metadata": {
        "id": "UP0zUJWf4Itn"
      },
      "source": [
        "## Document Object Model (DOM)\n",
        "- The XML DOM defines a standard way for accessing and manipulating XML documents. It presents an XML document as a tree-structure.\n",
        "\n",
        "[https://www.w3schools.com/xml/dom_intro.asp](https://www.w3schools.com/xml/dom_intro.asp)"
      ]
    },
    {
      "cell_type": "markdown",
      "metadata": {
        "id": "_ajP9fS14Nlw"
      },
      "source": [
        "![nodetree.gif](data:image/gif;base64,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)"
      ]
    },
    {
      "cell_type": "markdown",
      "metadata": {
        "id": "ngr3m1Ss8bS-"
      },
      "source": [
        "## Another XML example"
      ]
    },
    {
      "cell_type": "markdown",
      "metadata": {
        "id": "Ftg-6O0E7uHb"
      },
      "source": [
        "```\n",
        "<router>\n",
        "  <hostname>R1</hostname>\n",
        "  <interface>\n",
        "     <name>Gigabit 0/0</name>\n",
        "     <desc>Connect to R2 Chiangmai</desc>\n",
        "     <cdp>enable</cdp>\n",
        "  </interface>\n",
        "  <interface>\n",
        "     <name>Gigabit 0/1</name>\n",
        "     <desc>Connect to R3 Khonkaen</desc>\n",
        "     <cdp>disable</cdp>\n",
        "  </interface>\n",
        "  <interface>\n",
        "     <name>Gigabit 0/2</name>\n",
        "     <desc>Connect to R4 Phuket</desc>\n",
        "     <cdp>enable</cdp>\n",
        "  </interface>\n",
        "</router>\n",
        "```\n",
        "https://countwordsfree.com/xmlviewer"
      ]
    },
    {
      "cell_type": "markdown",
      "metadata": {
        "id": "qVKa4pp__4Of"
      },
      "source": [
        "## Parsing XML with xml.etree.ElementTree"
      ]
    },
    {
      "cell_type": "code",
      "metadata": {
        "id": "2DuK_rcbmQIS"
      },
      "source": [
        "import xml.etree.ElementTree as ET\n",
        "import re"
      ],
      "execution_count": null,
      "outputs": []
    },
    {
      "cell_type": "markdown",
      "metadata": {
        "id": "20vhvzlq1_Ye"
      },
      "source": [
        "myfile.xml\n",
        "\n",
        "```\n",
        "<?xml version=\"1.0\" encoding=\"UTF-8\"?>\n",
        "<rpc message-id=\"1\" id=\"100\"\n",
        " xmlns=\"urn:ietf:params:xml:ns:netconf:base:1.0\">\n",
        " <edit-config>\n",
        "  <target>\n",
        "   <candidate/>\n",
        "  </target>\n",
        "  <default-operation>merge</default-operation>\n",
        "  <test-option>set</test-option>\n",
        "  <config>\n",
        "   <int8.1\n",
        "    xmlns:nc=\"urn:ietf:params:xml:ns:netconf:base:1.0\"\n",
        "    nc:operation=\"create\"\n",
        "    xmlns=\"http://netconfcentral.org/ns/test\">9</int8.1>\n",
        "  </config>\n",
        " </edit-config>\n",
        "</rpc>\n",
        "```"
      ]
    },
    {
      "cell_type": "code",
      "metadata": {
        "id": "6zU3VmYAzHWZ",
        "colab": {
          "base_uri": "https://localhost:8080/",
          "height": 140
        },
        "outputId": "677ac13a-e762-43e3-a416-538f2b5f5d65"
      },
      "source": [
        "# Upload myfile.xml to content folder before executing this cell\n",
        "f = open(\"myfile.xml\")\n",
        "data = f.read()\n",
        "data"
      ],
      "execution_count": null,
      "outputs": [
        {
          "output_type": "execute_result",
          "data": {
            "text/plain": [
              "'<?xml version=\"1.0\" encoding=\"UTF-8\"?>\\n<rpc message-id=\"1\" id=\"100\"\\n xmlns=\"urn:ietf:params:xml:ns:netconf:base:1.0\">\\n <edit-config>\\n  <target>\\n   <candidate/>\\n  </target>\\n  <default-operation>merge</default-operation>\\n  <test-option>set</test-option>\\n  <config>\\n   <int8.1\\n    xmlns:nc=\"urn:ietf:params:xml:ns:netconf:base:1.0\"\\n    nc:operation=\"create\"\\n    xmlns=\"http://netconfcentral.org/ns/test\">9</int8.1>\\n  </config>\\n </edit-config>\\n</rpc>'"
            ],
            "application/vnd.google.colaboratory.intrinsic+json": {
              "type": "string"
            }
          },
          "metadata": {},
          "execution_count": 2
        }
      ]
    },
    {
      "cell_type": "code",
      "metadata": {
        "id": "Y9ZVMfLftlfb",
        "colab": {
          "base_uri": "https://localhost:8080/"
        },
        "outputId": "ca82a9b4-786a-4a41-bb2e-6c3ade13fd68"
      },
      "source": [
        "xml = ET.parse(\"myfile.xml\")\n",
        "xml"
      ],
      "execution_count": null,
      "outputs": [
        {
          "output_type": "execute_result",
          "data": {
            "text/plain": [
              "<xml.etree.ElementTree.ElementTree at 0x7f7c782a8820>"
            ]
          },
          "metadata": {},
          "execution_count": 3
        }
      ]
    },
    {
      "cell_type": "code",
      "metadata": {
        "id": "x4QMsk8yyB0C",
        "colab": {
          "base_uri": "https://localhost:8080/"
        },
        "outputId": "62a1fec1-eef4-4d32-d861-07987e24cbcd"
      },
      "source": [
        "root = xml.getroot()\n",
        "root"
      ],
      "execution_count": null,
      "outputs": [
        {
          "output_type": "execute_result",
          "data": {
            "text/plain": [
              "<Element '{urn:ietf:params:xml:ns:netconf:base:1.0}rpc' at 0x7f7c782bf590>"
            ]
          },
          "metadata": {},
          "execution_count": 4
        }
      ]
    },
    {
      "cell_type": "markdown",
      "source": [
        "Now we can get root tag and root attributes"
      ],
      "metadata": {
        "id": "upU91X46jxm5"
      }
    },
    {
      "cell_type": "code",
      "metadata": {
        "id": "EgRZ1H8682IV",
        "colab": {
          "base_uri": "https://localhost:8080/",
          "height": 36
        },
        "outputId": "9b581749-fefc-42f5-8a75-8e23917802bd"
      },
      "source": [
        "root.tag"
      ],
      "execution_count": null,
      "outputs": [
        {
          "output_type": "execute_result",
          "data": {
            "text/plain": [
              "'{urn:ietf:params:xml:ns:netconf:base:1.0}rpc'"
            ],
            "application/vnd.google.colaboratory.intrinsic+json": {
              "type": "string"
            }
          },
          "metadata": {},
          "execution_count": 14
        }
      ]
    },
    {
      "cell_type": "markdown",
      "source": [
        "tag is xml name space (xmlns) + tagname.\n",
        "In this example, root tag is {urn:ietf:params:xml:ns:netconf:base:1.0}rpc"
      ],
      "metadata": {
        "id": "bzsyWo_fjAeV"
      }
    },
    {
      "cell_type": "code",
      "source": [
        "root.attrib"
      ],
      "metadata": {
        "colab": {
          "base_uri": "https://localhost:8080/"
        },
        "id": "0CzHC-iEi5K4",
        "outputId": "f980bf00-f81d-4213-edfc-8dfb43131011"
      },
      "execution_count": null,
      "outputs": [
        {
          "output_type": "execute_result",
          "data": {
            "text/plain": [
              "{'message-id': '1', 'id': '100'}"
            ]
          },
          "metadata": {},
          "execution_count": 5
        }
      ]
    },
    {
      "cell_type": "markdown",
      "source": [
        "We want only xml namespace. "
      ],
      "metadata": {
        "id": "ToKZcI7DjoNE"
      }
    },
    {
      "cell_type": "code",
      "metadata": {
        "id": "dNKrj6HA9GiP",
        "colab": {
          "base_uri": "https://localhost:8080/"
        },
        "outputId": "77989f8e-2fa3-44d7-9424-a4597230b4ab"
      },
      "source": [
        "ns = re.match('{.*}', root.tag)\n",
        "ns"
      ],
      "execution_count": null,
      "outputs": [
        {
          "output_type": "execute_result",
          "data": {
            "text/plain": [
              "<re.Match object; span=(0, 41), match='{urn:ietf:params:xml:ns:netconf:base:1.0}'>"
            ]
          },
          "metadata": {},
          "execution_count": 6
        }
      ]
    },
    {
      "cell_type": "code",
      "metadata": {
        "id": "TR3XYlYV9PGt",
        "colab": {
          "base_uri": "https://localhost:8080/",
          "height": 36
        },
        "outputId": "74a9e6eb-7213-4680-b388-c4affc2f6077"
      },
      "source": [
        "ns = ns.group()\n",
        "ns"
      ],
      "execution_count": null,
      "outputs": [
        {
          "output_type": "execute_result",
          "data": {
            "text/plain": [
              "'{urn:ietf:params:xml:ns:netconf:base:1.0}'"
            ],
            "application/vnd.google.colaboratory.intrinsic+json": {
              "type": "string"
            }
          },
          "metadata": {},
          "execution_count": 7
        }
      ]
    },
    {
      "cell_type": "code",
      "metadata": {
        "id": "tVqlAPSF9Y21",
        "colab": {
          "base_uri": "https://localhost:8080/"
        },
        "outputId": "ea54e4bc-4c78-4621-ecc8-d541b44eb07f"
      },
      "source": [
        "editconf = root.find(\"{}edit-config\".format(ns))\n",
        "editconf"
      ],
      "execution_count": null,
      "outputs": [
        {
          "output_type": "execute_result",
          "data": {
            "text/plain": [
              "<Element '{urn:ietf:params:xml:ns:netconf:base:1.0}edit-config' at 0x7f574c4b77c0>"
            ]
          },
          "metadata": {},
          "execution_count": 8
        }
      ]
    },
    {
      "cell_type": "code",
      "metadata": {
        "id": "CD7NTzZN-W6r",
        "colab": {
          "base_uri": "https://localhost:8080/"
        },
        "outputId": "b47b4f77-d7ee-400f-8acf-f17ee6d8bb63"
      },
      "source": [
        "defop = editconf.find(\"{}default-operation\".format(ns))\n",
        "defop"
      ],
      "execution_count": null,
      "outputs": [
        {
          "output_type": "execute_result",
          "data": {
            "text/plain": [
              "<Element '{urn:ietf:params:xml:ns:netconf:base:1.0}default-operation' at 0x7f574c4b7a90>"
            ]
          },
          "metadata": {},
          "execution_count": 9
        }
      ]
    },
    {
      "cell_type": "code",
      "metadata": {
        "id": "UuKLaXPQ_YOM",
        "colab": {
          "base_uri": "https://localhost:8080/"
        },
        "outputId": "2017312e-89d6-4366-dfd0-0d69194126c8"
      },
      "source": [
        "testop = editconf.find(\"{}test-option\".format(ns))\n",
        "testop"
      ],
      "execution_count": null,
      "outputs": [
        {
          "output_type": "execute_result",
          "data": {
            "text/plain": [
              "<Element '{urn:ietf:params:xml:ns:netconf:base:1.0}test-option' at 0x7f574c4b7ae0>"
            ]
          },
          "metadata": {},
          "execution_count": 10
        }
      ]
    },
    {
      "cell_type": "code",
      "metadata": {
        "id": "ayitHppe_iXM",
        "colab": {
          "base_uri": "https://localhost:8080/"
        },
        "outputId": "ee52ebe7-ed2f-4cb4-8b6b-ef6a70807800"
      },
      "source": [
        "print(\"The default-operation contains: {}\".format(defop.text))\n",
        "print(\"The test-option contains: {}\".format(testop.text))"
      ],
      "execution_count": null,
      "outputs": [
        {
          "output_type": "stream",
          "name": "stdout",
          "text": [
            "The default-operation contains: merge\n",
            "The test-option contains: set\n"
          ]
        }
      ]
    },
    {
      "cell_type": "markdown",
      "metadata": {
        "id": "8gPjzuM3AZPY"
      },
      "source": [
        "## Parsing XML with lmxl"
      ]
    },
    {
      "cell_type": "code",
      "metadata": {
        "id": "0gB1-zTz_0yV"
      },
      "source": [
        "from lxml import etree as ET"
      ],
      "execution_count": null,
      "outputs": []
    },
    {
      "cell_type": "code",
      "metadata": {
        "id": "zmIHBQHOAvWT",
        "colab": {
          "base_uri": "https://localhost:8080/"
        },
        "outputId": "e3c51b0c-9375-4a52-d097-b25867c33cdc"
      },
      "source": [
        "xml = ET.parse(\"myfile.xml\")\n",
        "xml"
      ],
      "execution_count": null,
      "outputs": [
        {
          "output_type": "execute_result",
          "data": {
            "text/plain": [
              "<lxml.etree._ElementTree at 0x7f574f36dcc0>"
            ]
          },
          "metadata": {},
          "execution_count": 13
        }
      ]
    },
    {
      "cell_type": "code",
      "metadata": {
        "id": "l08m_ZR-Ay0I",
        "colab": {
          "base_uri": "https://localhost:8080/"
        },
        "outputId": "d9cd087e-43c7-4a0e-dc22-46f402975552"
      },
      "source": [
        "root = xml.getroot()\n",
        "root"
      ],
      "execution_count": null,
      "outputs": [
        {
          "output_type": "execute_result",
          "data": {
            "text/plain": [
              "<Element {urn:ietf:params:xml:ns:netconf:base:1.0}rpc at 0x7f574f4448c0>"
            ]
          },
          "metadata": {},
          "execution_count": 14
        }
      ]
    },
    {
      "cell_type": "code",
      "metadata": {
        "id": "SXi1R-tCBSfG",
        "colab": {
          "base_uri": "https://localhost:8080/",
          "height": 36
        },
        "outputId": "3e04b655-424e-4188-d901-b592fbd5d512"
      },
      "source": [
        "root.tag"
      ],
      "execution_count": null,
      "outputs": [
        {
          "output_type": "execute_result",
          "data": {
            "text/plain": [
              "'{urn:ietf:params:xml:ns:netconf:base:1.0}rpc'"
            ],
            "application/vnd.google.colaboratory.intrinsic+json": {
              "type": "string"
            }
          },
          "metadata": {},
          "execution_count": 15
        }
      ]
    },
    {
      "cell_type": "code",
      "metadata": {
        "id": "smXTpaoeBXpB",
        "colab": {
          "base_uri": "https://localhost:8080/"
        },
        "outputId": "0a5eba54-21a3-4e6e-9bc3-4896287acdc5"
      },
      "source": [
        "for element in root:\n",
        "    print(element)"
      ],
      "execution_count": null,
      "outputs": [
        {
          "output_type": "stream",
          "name": "stdout",
          "text": [
            "<Element {urn:ietf:params:xml:ns:netconf:base:1.0}edit-config at 0x7f574f4618c0>\n"
          ]
        }
      ]
    },
    {
      "cell_type": "code",
      "metadata": {
        "id": "zHnfzlrpBb2n",
        "colab": {
          "base_uri": "https://localhost:8080/"
        },
        "outputId": "f413620c-4608-4daa-a569-f68dcfa4bb3c"
      },
      "source": [
        "edit_config = root[0]\n",
        "edit_config"
      ],
      "execution_count": null,
      "outputs": [
        {
          "output_type": "execute_result",
          "data": {
            "text/plain": [
              "<Element {urn:ietf:params:xml:ns:netconf:base:1.0}edit-config at 0x7f574f4618c0>"
            ]
          },
          "metadata": {},
          "execution_count": 17
        }
      ]
    },
    {
      "cell_type": "code",
      "metadata": {
        "id": "heEK90aNCD7U",
        "colab": {
          "base_uri": "https://localhost:8080/"
        },
        "outputId": "dbc0a7fa-d126-4eef-aee5-918ad408d16e"
      },
      "source": [
        "for element in edit_config:\n",
        "    print(element)"
      ],
      "execution_count": null,
      "outputs": [
        {
          "output_type": "stream",
          "name": "stdout",
          "text": [
            "<Element {urn:ietf:params:xml:ns:netconf:base:1.0}target at 0x7f574f3ec780>\n",
            "<Element {urn:ietf:params:xml:ns:netconf:base:1.0}default-operation at 0x7f574f3ec4c0>\n",
            "<Element {urn:ietf:params:xml:ns:netconf:base:1.0}test-option at 0x7f574f3ec240>\n",
            "<Element {urn:ietf:params:xml:ns:netconf:base:1.0}config at 0x7f574f3ec780>\n"
          ]
        }
      ]
    },
    {
      "cell_type": "code",
      "metadata": {
        "id": "wFgOjD7TCZlY",
        "colab": {
          "base_uri": "https://localhost:8080/"
        },
        "outputId": "adc076d4-bfd1-4c19-b056-668af73bdbdd"
      },
      "source": [
        "defop = edit_config[1]\n",
        "defop"
      ],
      "execution_count": null,
      "outputs": [
        {
          "output_type": "execute_result",
          "data": {
            "text/plain": [
              "<Element {urn:ietf:params:xml:ns:netconf:base:1.0}default-operation at 0x7f574f3c7780>"
            ]
          },
          "metadata": {},
          "execution_count": 19
        }
      ]
    },
    {
      "cell_type": "code",
      "metadata": {
        "id": "P563yEuGCoR7",
        "colab": {
          "base_uri": "https://localhost:8080/",
          "height": 36
        },
        "outputId": "4cf20d82-a4f1-4e9e-b2a0-5ccf86537f96"
      },
      "source": [
        "defop.text"
      ],
      "execution_count": null,
      "outputs": [
        {
          "output_type": "execute_result",
          "data": {
            "text/plain": [
              "'merge'"
            ],
            "application/vnd.google.colaboratory.intrinsic+json": {
              "type": "string"
            }
          },
          "metadata": {},
          "execution_count": 20
        }
      ]
    },
    {
      "cell_type": "code",
      "metadata": {
        "id": "5Gxm0SrzCvb_",
        "colab": {
          "base_uri": "https://localhost:8080/"
        },
        "outputId": "da835fc4-d882-42d3-caca-185028773e4c"
      },
      "source": [
        "testop = edit_config[2]\n",
        "testop"
      ],
      "execution_count": null,
      "outputs": [
        {
          "output_type": "execute_result",
          "data": {
            "text/plain": [
              "<Element {urn:ietf:params:xml:ns:netconf:base:1.0}test-option at 0x7f574f3ee080>"
            ]
          },
          "metadata": {},
          "execution_count": 21
        }
      ]
    },
    {
      "cell_type": "code",
      "metadata": {
        "id": "FwG_AZAGC3y6"
      },
      "source": [
        "testop.text"
      ],
      "execution_count": null,
      "outputs": []
    },
    {
      "cell_type": "markdown",
      "metadata": {
        "id": "5PaOT3KJDAqN"
      },
      "source": [
        "## Parsing XML with xmltodict"
      ]
    },
    {
      "cell_type": "code",
      "metadata": {
        "id": "oEnGPjeoC5l2"
      },
      "source": [
        "import xmltodict"
      ],
      "execution_count": null,
      "outputs": []
    },
    {
      "cell_type": "code",
      "metadata": {
        "id": "Uo-JHnGLDGzn",
        "colab": {
          "base_uri": "https://localhost:8080/"
        },
        "outputId": "283f4e94-2661-4d90-c6c9-27dcfc291594"
      },
      "source": [
        "pip install xmltodict"
      ],
      "execution_count": null,
      "outputs": [
        {
          "output_type": "stream",
          "name": "stdout",
          "text": [
            "Looking in indexes: https://pypi.org/simple, https://us-python.pkg.dev/colab-wheels/public/simple/\n",
            "Collecting xmltodict\n",
            "  Downloading xmltodict-0.13.0-py2.py3-none-any.whl (10.0 kB)\n",
            "Installing collected packages: xmltodict\n",
            "Successfully installed xmltodict-0.13.0\n"
          ]
        }
      ]
    },
    {
      "cell_type": "code",
      "metadata": {
        "id": "_k-hilavDVGq"
      },
      "source": [
        "import xmltodict"
      ],
      "execution_count": null,
      "outputs": []
    },
    {
      "cell_type": "code",
      "metadata": {
        "id": "30oUtMvdDJvs",
        "colab": {
          "base_uri": "https://localhost:8080/",
          "height": 89
        },
        "outputId": "a756d73e-4677-4481-a26c-dd16e5b13f1e"
      },
      "source": [
        "xml_file = open(\"myfile.xml\", \"r\")\n",
        "xml_data = xml_file.read()\n",
        "xml_data"
      ],
      "execution_count": null,
      "outputs": [
        {
          "output_type": "execute_result",
          "data": {
            "text/plain": [
              "'<?xml version=\"1.0\" encoding=\"UTF-8\"?>\\n<rpc message-id=\"1\"\\n xmlns=\"urn:ietf:params:xml:ns:netconf:base:1.0\">\\n <edit-config>\\n  <target>\\n   <candidate/>\\n  </target>\\n  <default-operation>merge</default-operation>\\n  <test-option>set</test-option>\\n  <config>\\n   <int8.1\\n    xmlns:nc=\"urn:ietf:params:xml:ns:netconf:base:1.0\"\\n    nc:operation=\"create\"\\n    xmlns=\"http://netconfcentral.org/ns/test\">9</int8.1>\\n  </config>\\n </edit-config>\\n</rpc>'"
            ],
            "application/vnd.google.colaboratory.intrinsic+json": {
              "type": "string"
            }
          },
          "metadata": {},
          "execution_count": 26
        }
      ]
    },
    {
      "cell_type": "code",
      "metadata": {
        "id": "a78mND39DttJ",
        "colab": {
          "base_uri": "https://localhost:8080/"
        },
        "outputId": "dbff69d2-c1a2-49b3-c260-12889bf371e5"
      },
      "source": [
        "from pprint import pprint\n",
        "pprint(data)"
      ],
      "execution_count": null,
      "outputs": [
        {
          "output_type": "stream",
          "name": "stdout",
          "text": [
            "('<?xml version=\"1.0\" encoding=\"UTF-8\"?>\\n'\n",
            " '<rpc message-id=\"1\"\\n'\n",
            " ' xmlns=\"urn:ietf:params:xml:ns:netconf:base:1.0\">\\n'\n",
            " ' <edit-config>\\n'\n",
            " '  <target>\\n'\n",
            " '   <candidate/>\\n'\n",
            " '  </target>\\n'\n",
            " '  <default-operation>merge</default-operation>\\n'\n",
            " '  <test-option>set</test-option>\\n'\n",
            " '  <config>\\n'\n",
            " '   <int8.1\\n'\n",
            " '    xmlns:nc=\"urn:ietf:params:xml:ns:netconf:base:1.0\"\\n'\n",
            " '    nc:operation=\"create\"\\n'\n",
            " '    xmlns=\"http://netconfcentral.org/ns/test\">9</int8.1>\\n'\n",
            " '  </config>\\n'\n",
            " ' </edit-config>\\n'\n",
            " '</rpc>')\n"
          ]
        }
      ]
    },
    {
      "cell_type": "code",
      "metadata": {
        "id": "hOESayGJsULO",
        "colab": {
          "base_uri": "https://localhost:8080/"
        },
        "outputId": "d5e93194-ef40-44db-9bde-500992f1aeb7"
      },
      "source": [
        "xml = xmltodict.parse(xml_data)\n",
        "type(xml)"
      ],
      "execution_count": null,
      "outputs": [
        {
          "output_type": "execute_result",
          "data": {
            "text/plain": [
              "dict"
            ]
          },
          "metadata": {},
          "execution_count": 28
        }
      ]
    },
    {
      "cell_type": "code",
      "metadata": {
        "id": "jPybjytLDwNO"
      },
      "source": [
        "for element in xml:\n",
        "    print(element)"
      ],
      "execution_count": null,
      "outputs": []
    },
    {
      "cell_type": "code",
      "metadata": {
        "id": "DdoDl3isEAta"
      },
      "source": [
        "for element in xml['rpc']:\n",
        "    print(element)"
      ],
      "execution_count": null,
      "outputs": []
    },
    {
      "cell_type": "code",
      "metadata": {
        "id": "NbPhxLnXE6vQ"
      },
      "source": [
        "xml['rpc']['@message-id']"
      ],
      "execution_count": null,
      "outputs": []
    },
    {
      "cell_type": "code",
      "metadata": {
        "id": "3fG6ZtmWFDLY"
      },
      "source": [
        "xml['rpc']['@xmlns']"
      ],
      "execution_count": null,
      "outputs": []
    },
    {
      "cell_type": "code",
      "metadata": {
        "id": "oWN9rtrOFGQ5"
      },
      "source": [
        "xml['rpc']['edit-config']"
      ],
      "execution_count": null,
      "outputs": []
    },
    {
      "cell_type": "code",
      "metadata": {
        "id": "sBFyovqWEEn0"
      },
      "source": [
        "for element in xml['rpc']['edit-config']:\n",
        "    print(element)"
      ],
      "execution_count": null,
      "outputs": []
    },
    {
      "cell_type": "code",
      "metadata": {
        "id": "yZN5-iWjEU7E"
      },
      "source": [
        "xml['rpc']['edit-config']['default-operation']"
      ],
      "execution_count": null,
      "outputs": []
    },
    {
      "cell_type": "code",
      "metadata": {
        "id": "kOZpeHd1Ed8_"
      },
      "source": [
        "xml['rpc']['edit-config']['test-option']"
      ],
      "execution_count": null,
      "outputs": []
    },
    {
      "cell_type": "markdown",
      "source": [
        "## Parsing XML With untangle"
      ],
      "metadata": {
        "id": "Saj3eksyatkN"
      }
    },
    {
      "cell_type": "code",
      "source": [
        "myresponse = \"\"\"<services>\n",
        "  <service>\n",
        "    <name>Service A</name>\n",
        "    <status>Running</status>\n",
        "  </service>\n",
        "  <service>\n",
        "    <name>Service B</name>\n",
        "    <status>Idle</status>\n",
        "  </service>\n",
        "</services>\"\"\""
      ],
      "metadata": {
        "id": "26j36mWoa7IE"
      },
      "execution_count": null,
      "outputs": []
    },
    {
      "cell_type": "code",
      "source": [
        "!pip install untangle"
      ],
      "metadata": {
        "id": "Vmrvm5slbKNj",
        "colab": {
          "base_uri": "https://localhost:8080/"
        },
        "outputId": "875d3723-fe65-4ac6-f283-697290fd6c02"
      },
      "execution_count": null,
      "outputs": [
        {
          "output_type": "stream",
          "name": "stdout",
          "text": [
            "Collecting untangle\n",
            "  Downloading untangle-1.1.1.tar.gz (3.1 kB)\n",
            "Building wheels for collected packages: untangle\n",
            "  Building wheel for untangle (setup.py) ... \u001b[?25l\u001b[?25hdone\n",
            "  Created wheel for untangle: filename=untangle-1.1.1-py3-none-any.whl size=3412 sha256=c410a5b170623b33faebdd31bccab5423b013e01801a45702ea531f669392bc0\n",
            "  Stored in directory: /root/.cache/pip/wheels/b9/a9/9c/45580c8b7a00e3e79b889e8e78a4f3427fff5a4d48f1cfea0a\n",
            "Successfully built untangle\n",
            "Installing collected packages: untangle\n",
            "Successfully installed untangle-1.1.1\n"
          ]
        }
      ]
    },
    {
      "cell_type": "code",
      "source": [
        "import untangle"
      ],
      "metadata": {
        "id": "LZOFXzuhbSgs"
      },
      "execution_count": null,
      "outputs": []
    },
    {
      "cell_type": "code",
      "source": [
        "myreponse_python = untangle.parse(myresponse)"
      ],
      "metadata": {
        "id": "DdYAM5INbVrT"
      },
      "execution_count": null,
      "outputs": []
    },
    {
      "cell_type": "code",
      "source": [
        "myreponse_python.services.service[1].name.cdata, myreponse_python.services.service[1].status.cdata"
      ],
      "metadata": {
        "id": "ckhFJV2KbjGi",
        "colab": {
          "base_uri": "https://localhost:8080/"
        },
        "outputId": "34e5e3ff-3e0d-4d8a-e3f2-40f743e1d449"
      },
      "execution_count": null,
      "outputs": [
        {
          "output_type": "execute_result",
          "data": {
            "text/plain": [
              "('Service B', 'Idle')"
            ]
          },
          "metadata": {},
          "execution_count": 5
        }
      ]
    },
    {
      "cell_type": "markdown",
      "metadata": {
        "id": "CPl0iFALFf2Y"
      },
      "source": [
        "#JSON"
      ]
    },
    {
      "cell_type": "markdown",
      "metadata": {
        "id": "wYbXnxxRqGjG"
      },
      "source": [
        "![Screen Shot 2564-02-09 at 18.57.52.png](data:image/png;base64,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)"
      ]
    },
    {
      "cell_type": "code",
      "metadata": {
        "id": "ZxReR7P4EhFJ"
      },
      "source": [
        "import json"
      ],
      "execution_count": null,
      "outputs": []
    },
    {
      "cell_type": "markdown",
      "metadata": {
        "id": "942wksucIvgY"
      },
      "source": [
        "##Example"
      ]
    },
    {
      "cell_type": "markdown",
      "metadata": {
        "id": "BuE3aaPSIye5"
      },
      "source": [
        "```\n",
        "{\n",
        "    \"router\": {\n",
        "        \"hostname\": \"R1\",\n",
        "        \"interface\": [\n",
        "            {\n",
        "                \"name\": \"Gigabit 0/0\",\n",
        "                \"desc\": \"Connect to R2 Chiangmai\",\n",
        "                \"cdp\": \"enable\"\n",
        "            },\n",
        "            {\n",
        "                \"name\": \"Gigabit 0/1\",\n",
        "                \"desc\": \"Connect to R3 Khonkaen\",\n",
        "                \"cdp\": \"disable\"\n",
        "            },\n",
        "            {\n",
        "                \"name\": \"Gigabit 0/2\",\n",
        "                \"desc\": \"Connect to R4 Phuket\",\n",
        "                \"cdp\": \"enable\"\n",
        "            }\n",
        "        ]\n",
        "    }\n",
        "}\n",
        "```"
      ]
    },
    {
      "cell_type": "markdown",
      "metadata": {
        "id": "76pKV5FYMKyu"
      },
      "source": [
        "##json.loads() - Load from string"
      ]
    },
    {
      "cell_type": "code",
      "metadata": {
        "id": "7qVJRCn6JA2i"
      },
      "source": [
        "json_data_str = \"\"\"{\n",
        "    \"router\": {\n",
        "        \"hostname\": \"R1\",\n",
        "        \"interface\": [\n",
        "            {\n",
        "                \"name\": \"Gigabit 0/0\",\n",
        "                \"desc\": \"Connect to R2 Chiangmai\",\n",
        "                \"cdp\": \"enable\"\n",
        "            },\n",
        "            {\n",
        "                \"name\": \"Gigabit 0/1\",\n",
        "                \"desc\": \"Connect to R3 Khonkaen\",\n",
        "                \"cdp\": \"disable\"\n",
        "            },\n",
        "            {\n",
        "                \"name\": \"Gigabit 0/2\",\n",
        "                \"desc\": \"Connect to R4 Phuket\",\n",
        "                \"cdp\": \"enable\"\n",
        "            }\n",
        "        ]\n",
        "    }\n",
        "}\"\"\"\n",
        "type(json_data_str)"
      ],
      "execution_count": null,
      "outputs": []
    },
    {
      "cell_type": "code",
      "metadata": {
        "id": "bAsq-tQLJNFD"
      },
      "source": [
        "data = json.loads(json_data_str)\n",
        "data"
      ],
      "execution_count": null,
      "outputs": []
    },
    {
      "cell_type": "code",
      "metadata": {
        "id": "zuN0MKUDL4m3"
      },
      "source": [
        "pprint(data)"
      ],
      "execution_count": null,
      "outputs": []
    },
    {
      "cell_type": "code",
      "metadata": {
        "id": "EYNlQWKuMCKP"
      },
      "source": [
        "type(data)"
      ],
      "execution_count": null,
      "outputs": []
    },
    {
      "cell_type": "code",
      "metadata": {
        "id": "GUrcdGZsO66V"
      },
      "source": [
        "data['router']['interface'][2]['desc']"
      ],
      "execution_count": null,
      "outputs": []
    },
    {
      "cell_type": "markdown",
      "metadata": {
        "id": "WS_9OcMDMWmG"
      },
      "source": [
        "##json.load() - Load from file"
      ]
    },
    {
      "cell_type": "markdown",
      "metadata": {
        "id": "1WNf1SUEHjjH"
      },
      "source": [
        "myfile.json\n",
        "\n",
        "```\n",
        "{\n",
        " \"access_token\":\"ZDI3MGEyYzQtNmFlNS00NDNhLWFlNzAtZGVjNjE0MGU1OGZmZWNmZDEwN2ItYTU3\",\n",
        " \"expires_in\":1209600,\n",
        " \"refresh_token\":\"MDEyMzQ1Njc4OTAxMjM0NTY3ODkwMTIzNDU2Nzg5MDEyMzQ1Njc4OTEyMzQ1Njc4\",\n",
        " \"refreshtokenexpires_in\":7776000\n",
        "}\n",
        "```\n"
      ]
    },
    {
      "cell_type": "code",
      "metadata": {
        "id": "GS_eVoMxHiJX"
      },
      "source": [
        "import json"
      ],
      "execution_count": null,
      "outputs": []
    },
    {
      "cell_type": "code",
      "metadata": {
        "id": "Oi4ufaifMgkq"
      },
      "source": [
        "#Upload myfile.json to content folder before executing this cell\n",
        "#Use context manager\n",
        "with open('myfile.json') as f:\n",
        "    data = json.load(f)"
      ],
      "execution_count": null,
      "outputs": []
    },
    {
      "cell_type": "code",
      "metadata": {
        "id": "ldA8C6ACMqXv"
      },
      "source": [
        "data"
      ],
      "execution_count": null,
      "outputs": []
    },
    {
      "cell_type": "code",
      "metadata": {
        "id": "uRXh0E9YNEf1"
      },
      "source": [
        "type(data)"
      ],
      "execution_count": null,
      "outputs": []
    },
    {
      "cell_type": "code",
      "metadata": {
        "id": "JqMGqZrZO-SZ"
      },
      "source": [
        "data['access_token']"
      ],
      "execution_count": null,
      "outputs": []
    },
    {
      "cell_type": "markdown",
      "metadata": {
        "id": "RLgPf90DPF3j"
      },
      "source": [
        "#YAML\n"
      ]
    },
    {
      "cell_type": "markdown",
      "source": [
        "https://zetcode.com/python/yaml/\n",
        "\n"
      ],
      "metadata": {
        "id": "-HmugnGdfiQJ"
      }
    },
    {
      "cell_type": "code",
      "metadata": {
        "id": "a4RPor2oPXFV"
      },
      "source": [
        "import yaml"
      ],
      "execution_count": null,
      "outputs": []
    },
    {
      "cell_type": "code",
      "metadata": {
        "id": "bARSWcwDUlF9",
        "colab": {
          "base_uri": "https://localhost:8080/"
        },
        "outputId": "67278bb5-f66e-4eae-bd70-8ef4c43a2f8c"
      },
      "source": [
        "!pip install pyyaml"
      ],
      "execution_count": null,
      "outputs": [
        {
          "output_type": "stream",
          "name": "stdout",
          "text": [
            "Requirement already satisfied: pyyaml in /usr/local/lib/python3.7/dist-packages (3.13)\n"
          ]
        }
      ]
    },
    {
      "cell_type": "markdown",
      "metadata": {
        "id": "795K8_FzSO_T"
      },
      "source": [
        "##Examples"
      ]
    },
    {
      "cell_type": "markdown",
      "metadata": {
        "id": "Tfz_1ITeSRL2"
      },
      "source": [
        "netplan network configuration\n",
        "```\n",
        "network:\n",
        "  version: 2\n",
        "  renderer: networkd\n",
        "  ethernets:\n",
        "    mainif:\n",
        "      match:\n",
        "        macaddress: \"de:ad:be:ef:ca:fe\"\n",
        "      set-name: mainif\n",
        "      addresses: [ \"10.3.0.5/23\" ]\n",
        "      gateway4: 10.3.0.1\n",
        "      nameservers:\n",
        "        addresses: [ \"8.8.8.8\", \"8.8.4.4\" ]\n",
        "        search: [ example.com ]\n",
        "```\n"
      ]
    },
    {
      "cell_type": "markdown",
      "metadata": {
        "id": "JdrnVgA4Wpdx"
      },
      "source": [
        "```\n",
        "router:\n",
        "  hostname: R1\n",
        "  interface:\n",
        "    - name: Gigabit 0/0\n",
        "      desc: Connect to R2 Chiangmai\n",
        "      cdp: enable\n",
        "    - name: Gigabit 0/1\n",
        "      desc: Connect to R3 Khonkaen\n",
        "      cdp: disable\n",
        "    - name: Gigabit 0/2\n",
        "      desc: Connect to R4 Phuket\n",
        "      cdp: enable\n",
        "```\n",
        "https://codebeautify.org/json-to-yaml\n"
      ]
    },
    {
      "cell_type": "markdown",
      "metadata": {
        "id": "S43s6sjOUHC9"
      },
      "source": [
        "##yaml.safe_load()"
      ]
    },
    {
      "cell_type": "code",
      "metadata": {
        "id": "ea-zdJVpY6lf"
      },
      "source": [
        "yaml_str = \"\"\"\n",
        "router:\n",
        "  hostname: R1\n",
        "  interface:\n",
        "    - name: Gigabit 0/0\n",
        "      desc: Connect to R2 Chiangmai\n",
        "      cdp: enable\n",
        "    - name: Gigabit 0/1\n",
        "      desc: Connect to R3 Khonkaen\n",
        "      cdp: disable\n",
        "    - name: Gigabit 0/2\n",
        "      desc: Connect to R4 Phuket\n",
        "      cdp: enable\n",
        "\"\"\"\n",
        "yaml_document = yaml.safe_load(yaml_str)\n",
        "yaml_document"
      ],
      "execution_count": null,
      "outputs": []
    },
    {
      "cell_type": "code",
      "metadata": {
        "id": "t918plKnZWKc"
      },
      "source": [
        "yaml_document['router']['hostname']"
      ],
      "execution_count": null,
      "outputs": []
    },
    {
      "cell_type": "markdown",
      "metadata": {
        "id": "Jl-t7tSlXCQW"
      },
      "source": [
        "Yaml multiple documents\n",
        "```\n",
        "---\n",
        "router:\n",
        "  hostname: R1\n",
        "  interface:\n",
        "    - name: Gigabit 0/0\n",
        "      desc: Connect to R2 Chiangmai\n",
        "      cdp: enable\n",
        "    - name: Gigabit 0/1\n",
        "      desc: Connect to R3 Khonkaen\n",
        "      cdp: disable\n",
        "    - name: Gigabit 0/2\n",
        "      desc: Connect to R4 Phuket\n",
        "      cdp: enable\n",
        "...\n",
        "---\n",
        "switch:\n",
        "  hostname: S1\n",
        "  os: IOSvL2\n",
        "...\n",
        "```"
      ]
    },
    {
      "cell_type": "code",
      "metadata": {
        "id": "xMQ8HOTcaAgY"
      },
      "source": [
        "yaml_str = \"\"\"\n",
        "---\n",
        "router:\n",
        "  hostname: R1\n",
        "  interface:\n",
        "    - name: Gigabit 0/0\n",
        "      desc: Connect to R2 Chiangmai\n",
        "      cdp: enable\n",
        "    - name: Gigabit 0/1\n",
        "      desc: Connect to R3 Khonkaen\n",
        "      cdp: disable\n",
        "    - name: Gigabit 0/2\n",
        "      desc: Connect to R4 Phuket\n",
        "      cdp: enable\n",
        "...\n",
        "---\n",
        "switch:\n",
        "  hostname: S1\n",
        "  os: IOSvL2\n",
        "...\n",
        "\"\"\"\n",
        "yaml_document = yaml.safe_load(yaml_str)"
      ],
      "execution_count": null,
      "outputs": []
    },
    {
      "cell_type": "markdown",
      "metadata": {
        "id": "GK0F6hN6innE"
      },
      "source": [
        "##yaml.safe_load_all()"
      ]
    },
    {
      "cell_type": "code",
      "metadata": {
        "id": "cY-K3cZmag-3"
      },
      "source": [
        "yaml_str = \"\"\"\n",
        "---\n",
        "router:\n",
        "  hostname: R1\n",
        "  interface:\n",
        "    - name: Gigabit 0/0\n",
        "      desc: Connect to R2 Chiangmai\n",
        "      cdp: enable\n",
        "    - name: Gigabit 0/1\n",
        "      desc: Connect to R3 Khonkaen\n",
        "      cdp: disable\n",
        "    - name: Gigabit 0/2\n",
        "      desc: Connect to R4 Phuket\n",
        "      cdp: enable\n",
        "...\n",
        "---\n",
        "switch:\n",
        "  hostname: S1\n",
        "  os: IOSvL2\n",
        "...\n",
        "\"\"\"\n",
        "yaml_documents = yaml.safe_load_all(yaml_str)\n",
        "yaml_documents"
      ],
      "execution_count": null,
      "outputs": []
    },
    {
      "cell_type": "code",
      "metadata": {
        "id": "-08ZU4iAhIzm"
      },
      "source": [
        "document1 = next(yaml_documents)\n",
        "document1"
      ],
      "execution_count": null,
      "outputs": []
    },
    {
      "cell_type": "code",
      "metadata": {
        "id": "3I-sNstuiBmG"
      },
      "source": [
        "document1['router']['interface'][2]['cdp']"
      ],
      "execution_count": null,
      "outputs": []
    },
    {
      "cell_type": "code",
      "metadata": {
        "id": "v5x_uAH7hM9x"
      },
      "source": [
        "document2 = next(yaml_documents)\n",
        "document2"
      ],
      "execution_count": null,
      "outputs": []
    },
    {
      "cell_type": "code",
      "metadata": {
        "id": "Rtg0ufZqiJ8s"
      },
      "source": [
        "document2['switch']['hostname']"
      ],
      "execution_count": null,
      "outputs": []
    },
    {
      "cell_type": "code",
      "metadata": {
        "id": "38yp1_ZfhjD9"
      },
      "source": [
        "document3 = next(yaml_documents)"
      ],
      "execution_count": null,
      "outputs": []
    },
    {
      "cell_type": "code",
      "metadata": {
        "id": "XepFZuW8a8nP"
      },
      "source": [
        "for document in yaml_documents:\n",
        "    print(document)"
      ],
      "execution_count": null,
      "outputs": []
    },
    {
      "cell_type": "markdown",
      "metadata": {
        "id": "segLUxxWQ-IK"
      },
      "source": [
        "myfile.yaml\n",
        "\n",
        "```\n",
        "---\n",
        "access_token: ZDI3MGEyYzQtNmFlNS00NDNhLWFlNzAtZGVjNjE0MGU1OGZmZWNmZDEwN2ItYTU3\n",
        "expires_in: 1209600\n",
        "refresh_token: MDEyMzQ1Njc4OTAxMjM0NTY3ODkwMTIzNDU2Nzg5MDEyMzQ1Njc4OTEyMzQ1Njc4\n",
        "refreshtokenexpires_in: 7776000\n",
        "```"
      ]
    },
    {
      "cell_type": "code",
      "metadata": {
        "id": "RM05713FQvvP"
      },
      "source": [
        "#Upload myfile.yaml to content folder before executing this cell\n",
        "#Use context manager\n",
        "with open('myfile.yaml') as f:\n",
        "    #yaml_data = yaml.load(f, Loader=yaml.SafeLoader)\n",
        "    yaml_data = yaml.safe_load(f)\n",
        "yaml_data"
      ],
      "execution_count": null,
      "outputs": []
    },
    {
      "cell_type": "code",
      "metadata": {
        "id": "oifZQbhTjOxY"
      },
      "source": [
        "yaml_data['access_token']"
      ],
      "execution_count": null,
      "outputs": []
    },
    {
      "cell_type": "markdown",
      "source": [
        "# Parsing vs. Serialization"
      ],
      "metadata": {
        "id": "x3fY95DOiscu"
      }
    },
    {
      "cell_type": "markdown",
      "metadata": {
        "id": "xP4_pummNfVi"
      },
      "source": [
        "Parsing is, generally speaking, the processing of an input stream into meaningful data structures; in the XML context, parsing is the process of reading a sequence of characters conforming to the grammar and other constraints of the XML spec into whatever internal representation of XML your program uses.\n",
        "\n",
        "Serialization is the opposite process: processing the internal data structures of a program (in this context, your internal representation of an XML document) and creating a character sequence (typically written to an output stream) that conforms to the angle-bracket syntax of the spec.\n",
        "\n",
        "Use a parser to read XML from a character stream into data structures; use a serializer to write data structures out into a character stream.\n",
        "\n",
        "https://stackoverflow.com/questions/11965419/xml-serialization-vs-xml-parsing\n",
        "\n"
      ]
    },
    {
      "cell_type": "markdown",
      "metadata": {
        "id": "PECLpqeUkCgZ"
      },
      "source": [
        "##Serialization to XML"
      ]
    },
    {
      "cell_type": "markdown",
      "source": [
        "### xmltodict"
      ],
      "metadata": {
        "id": "VBygzBZVakdh"
      }
    },
    {
      "cell_type": "code",
      "metadata": {
        "id": "EvbJicqukMXx"
      },
      "source": [
        "xml_str = '''<?xml version=\"1.0\" encoding=\"UTF-8\"?>\n",
        "<rpc message-id=\"1\"\n",
        " xmlns=\"urn:ietf:params:xml:ns:netconf:base:1.0\">\n",
        " <edit-config>\n",
        "  <target>\n",
        "   <candidate/>\n",
        "  </target>\n",
        "  <default-operation>merge</default-operation>\n",
        "  <test-option>set</test-option>\n",
        "  <config>\n",
        "   <int8.1\n",
        "    xmlns:nc=\"urn:ietf:params:xml:ns:netconf:base:1.0\"\n",
        "    nc:operation=\"create\"\n",
        "    xmlns=\"http://netconfcentral.org/ns/test\">9</int8.1>\n",
        "  </config>\n",
        " </edit-config>\n",
        "</rpc>'''"
      ],
      "execution_count": null,
      "outputs": []
    },
    {
      "cell_type": "code",
      "metadata": {
        "id": "yzRrB1XstKNo",
        "colab": {
          "base_uri": "https://localhost:8080/"
        },
        "outputId": "99574bc9-62e7-4b51-9bd3-d19a450f66d1"
      },
      "source": [
        "xml_dict = xmltodict.parse(xml_str)\n",
        "type(xml_dict)"
      ],
      "execution_count": null,
      "outputs": [
        {
          "output_type": "execute_result",
          "data": {
            "text/plain": [
              "dict"
            ]
          },
          "metadata": {},
          "execution_count": 8
        }
      ]
    },
    {
      "cell_type": "code",
      "metadata": {
        "id": "9xz4VBkNuHYh",
        "colab": {
          "base_uri": "https://localhost:8080/"
        },
        "outputId": "542e9f82-ec01-44c8-c0f3-cc7921a13fa3"
      },
      "source": [
        "xml_dict"
      ],
      "execution_count": null,
      "outputs": [
        {
          "output_type": "execute_result",
          "data": {
            "text/plain": [
              "{'rpc': {'@message-id': '1',\n",
              "  '@xmlns': 'urn:ietf:params:xml:ns:netconf:base:1.0',\n",
              "  'edit-config': {'target': {'candidate': None},\n",
              "   'default-operation': 'merge',\n",
              "   'test-option': 'set',\n",
              "   'config': {'int8.1': {'@xmlns:nc': 'urn:ietf:params:xml:ns:netconf:base:1.0',\n",
              "     '@nc:operation': 'create',\n",
              "     '@xmlns': 'http://netconfcentral.org/ns/test',\n",
              "     '#text': '9'}}}}}"
            ]
          },
          "metadata": {},
          "execution_count": 9
        }
      ]
    },
    {
      "cell_type": "code",
      "metadata": {
        "id": "2a2tf4EBuFtZ",
        "colab": {
          "base_uri": "https://localhost:8080/",
          "height": 89
        },
        "outputId": "b5797f4e-5fdb-44a6-c980-4f3f595168e9"
      },
      "source": [
        "xml_data = xmltodict.unparse(xml_dict)\n",
        "xml_data"
      ],
      "execution_count": null,
      "outputs": [
        {
          "output_type": "execute_result",
          "data": {
            "text/plain": [
              "'<?xml version=\"1.0\" encoding=\"utf-8\"?>\\n<rpc message-id=\"1\" xmlns=\"urn:ietf:params:xml:ns:netconf:base:1.0\"><edit-config><target><candidate></candidate></target><default-operation>merge</default-operation><test-option>set</test-option><config><int8.1 xmlns:nc=\"urn:ietf:params:xml:ns:netconf:base:1.0\" nc:operation=\"create\" xmlns=\"http://netconfcentral.org/ns/test\">9</int8.1></config></edit-config></rpc>'"
            ],
            "application/vnd.google.colaboratory.intrinsic+json": {
              "type": "string"
            }
          },
          "metadata": {},
          "execution_count": 10
        }
      ]
    },
    {
      "cell_type": "code",
      "metadata": {
        "id": "ZXjtaUPCuZs6",
        "colab": {
          "base_uri": "https://localhost:8080/"
        },
        "outputId": "563abda3-be8f-40c6-994d-437533887d15"
      },
      "source": [
        "type(xml_data)"
      ],
      "execution_count": null,
      "outputs": [
        {
          "output_type": "execute_result",
          "data": {
            "text/plain": [
              "str"
            ]
          },
          "metadata": {},
          "execution_count": 11
        }
      ]
    },
    {
      "cell_type": "code",
      "metadata": {
        "id": "EWG_31QEudcx",
        "colab": {
          "base_uri": "https://localhost:8080/"
        },
        "outputId": "0333628e-b11a-495a-cb72-207626434732"
      },
      "source": [
        "xml_dict = xmltodict.parse(xml_data)\n",
        "xml_dict"
      ],
      "execution_count": null,
      "outputs": [
        {
          "output_type": "execute_result",
          "data": {
            "text/plain": [
              "{'rpc': {'@message-id': '1',\n",
              "  '@xmlns': 'urn:ietf:params:xml:ns:netconf:base:1.0',\n",
              "  'edit-config': {'target': {'candidate': None},\n",
              "   'default-operation': 'merge',\n",
              "   'test-option': 'set',\n",
              "   'config': {'int8.1': {'@xmlns:nc': 'urn:ietf:params:xml:ns:netconf:base:1.0',\n",
              "     '@nc:operation': 'create',\n",
              "     '@xmlns': 'http://netconfcentral.org/ns/test',\n",
              "     '#text': '9'}}}}}"
            ]
          },
          "metadata": {},
          "execution_count": 12
        }
      ]
    },
    {
      "cell_type": "markdown",
      "metadata": {
        "id": "Ku9LEeqgjYwz"
      },
      "source": [
        "##Serialization to JSON"
      ]
    },
    {
      "cell_type": "markdown",
      "metadata": {
        "id": "nOtSMsVPj9Ln"
      },
      "source": [
        "###json.dumps() - dump to string"
      ]
    },
    {
      "cell_type": "code",
      "metadata": {
        "id": "5tP-c01PNGMw"
      },
      "source": [
        "data = {\"access_token\": 'ZDI3MGEyYzQtNmFlNS00NDNhLWFlNzAtZGVjNjE0MGU1OGZmZWNmZDEwN2ItYTU3',\n",
        " 'expires_in': 1209600,\n",
        " 'refresh_token': 'MDEyMzQ1Njc4OTAxMjM0NTY3ODkwMTIzNDU2Nzg5MDEyMzQ1Njc4OTEyMzQ1Njc4',\n",
        " 'refreshtokenexpires_in': 7776000}\n",
        "type(data)"
      ],
      "execution_count": null,
      "outputs": []
    },
    {
      "cell_type": "code",
      "metadata": {
        "id": "nT10Hpsrjv11"
      },
      "source": [
        "import json\n",
        "json_data_str = json.dumps(data)\n",
        "type(json_data_str)"
      ],
      "execution_count": null,
      "outputs": []
    },
    {
      "cell_type": "code",
      "metadata": {
        "id": "BiDrc6v8j1bA"
      },
      "source": [
        "json_data_str"
      ],
      "execution_count": null,
      "outputs": []
    },
    {
      "cell_type": "code",
      "metadata": {
        "id": "8Brny5lZq_au"
      },
      "source": [
        "data_str = str(data)\n",
        "data_str"
      ],
      "execution_count": null,
      "outputs": []
    },
    {
      "cell_type": "code",
      "metadata": {
        "id": "WE5VliXqrPwy"
      },
      "source": [
        "json_data_str == data_str"
      ],
      "execution_count": null,
      "outputs": []
    },
    {
      "cell_type": "code",
      "metadata": {
        "id": "87p82qWWKCDU"
      },
      "source": [
        "import json\n",
        "x = {\"a\": 1, 'b': 2}\n",
        "print(type(x))\n",
        "str_x = str(x)\n",
        "json_str_x = json.dumps(x)\n",
        "print(\"str_x: \", str_x)\n",
        "print(\"json_str_x: \", json_str_x)"
      ],
      "execution_count": null,
      "outputs": []
    },
    {
      "cell_type": "code",
      "metadata": {
        "id": "rQowFTVUK4CB"
      },
      "source": [
        "json_x = json.loads(str_x)\n",
        "json_x"
      ],
      "execution_count": null,
      "outputs": []
    },
    {
      "cell_type": "code",
      "metadata": {
        "id": "ZobBR4SqK5UD"
      },
      "source": [
        "json_x = json.loads(json_str_x)\n",
        "json_x"
      ],
      "execution_count": null,
      "outputs": []
    },
    {
      "cell_type": "code",
      "metadata": {
        "id": "n400Ovpnvz0X"
      },
      "source": [
        "x = [True, False]\n",
        "str_x = str(x)\n",
        "print(str_x)\n",
        "json_x = json.loads(str_x)"
      ],
      "execution_count": null,
      "outputs": []
    },
    {
      "cell_type": "code",
      "metadata": {
        "id": "jigJF-LTwXk_"
      },
      "source": [
        "x = [True, False]\n",
        "str_x = json.dumps(x)\n",
        "print(str_x)\n",
        "json_x = json.loads(str_x)\n",
        "print(json_x)"
      ],
      "execution_count": null,
      "outputs": []
    },
    {
      "cell_type": "markdown",
      "metadata": {
        "id": "5uqBY28QluZJ"
      },
      "source": [
        "###json.dump() - dump to file"
      ]
    },
    {
      "cell_type": "code",
      "metadata": {
        "id": "219wvNmMloWH"
      },
      "source": [
        "with open('datafile.json', 'w') as f:\n",
        "    json.dump(data, f)"
      ],
      "execution_count": null,
      "outputs": []
    },
    {
      "cell_type": "code",
      "metadata": {
        "id": "x28AtOF6m17F"
      },
      "source": [
        "with open('datafile.json', 'r') as f:\n",
        "    print(f.read())"
      ],
      "execution_count": null,
      "outputs": []
    },
    {
      "cell_type": "code",
      "metadata": {
        "id": "R6EZ3K6gnCyo"
      },
      "source": [
        "with open('datafile.json', 'w') as f:\n",
        "    json.dump(data, f, sort_keys=True, indent=2)"
      ],
      "execution_count": null,
      "outputs": []
    },
    {
      "cell_type": "code",
      "metadata": {
        "id": "Z_vy3VFPnVsv"
      },
      "source": [
        "with open('datafile.json', 'r') as f:\n",
        "    print(f.read())"
      ],
      "execution_count": null,
      "outputs": []
    },
    {
      "cell_type": "markdown",
      "metadata": {
        "id": "SfUkk68enj-Z"
      },
      "source": [
        "##Serialization to YAML"
      ]
    },
    {
      "cell_type": "markdown",
      "metadata": {
        "id": "watyk_inn55i"
      },
      "source": [
        "###yaml.dump() - dump to string and file"
      ]
    },
    {
      "cell_type": "code",
      "metadata": {
        "id": "OlB04hccngxo"
      },
      "source": [
        "data = {'access_token': 'ZDI3MGEyYzQtNmFlNS00NDNhLWFlNzAtZGVjNjE0MGU1OGZmZWNmZDEwN2ItYTU3', 'expires_in': 1209600, 'refresh_token': 'MDEyMzQ1Njc4OTAxMjM0NTY3ODkwMTIzNDU2Nzg5MDEyMzQ1Njc4OTEyMzQ1Njc4', 'refreshtokenexpires_in': 7776000}\n",
        "type(data)"
      ],
      "execution_count": null,
      "outputs": []
    },
    {
      "cell_type": "code",
      "metadata": {
        "id": "2YMrNudGoRWx"
      },
      "source": [
        "yaml_data_str = yaml.dump(data)\n",
        "type(yaml_data_str)"
      ],
      "execution_count": null,
      "outputs": []
    },
    {
      "cell_type": "code",
      "metadata": {
        "id": "tKsmN-jQohme"
      },
      "source": [
        "yaml_data_str"
      ],
      "execution_count": null,
      "outputs": []
    },
    {
      "cell_type": "code",
      "metadata": {
        "id": "F4d08IbIooH7"
      },
      "source": [
        "data_str = str(data)\n",
        "data_str"
      ],
      "execution_count": null,
      "outputs": []
    },
    {
      "cell_type": "code",
      "metadata": {
        "id": "Pixmnb3gLF80"
      },
      "source": [
        "yaml_data_str == data_str"
      ],
      "execution_count": null,
      "outputs": []
    },
    {
      "cell_type": "code",
      "metadata": {
        "id": "MkEhrTQ1Mb8U"
      },
      "source": [
        "data1 = yaml.safe_load(yaml_data_str)\n",
        "data1"
      ],
      "execution_count": null,
      "outputs": []
    },
    {
      "cell_type": "code",
      "metadata": {
        "id": "SQnxXqLkMpJ6"
      },
      "source": [
        "data2 = yaml.safe_load(data_str)\n",
        "data2"
      ],
      "execution_count": null,
      "outputs": []
    },
    {
      "cell_type": "code",
      "metadata": {
        "id": "VBW_DyzioCIq"
      },
      "source": [
        "with open('datafile.yaml', 'w') as f:\n",
        "    yaml.dump(data, f)"
      ],
      "execution_count": null,
      "outputs": []
    },
    {
      "cell_type": "code",
      "metadata": {
        "id": "1JZcyFGooGAs"
      },
      "source": [
        "with open('datafile.yaml', 'r') as f:\n",
        "    print(f.read())"
      ],
      "execution_count": null,
      "outputs": []
    },
    {
      "cell_type": "code",
      "metadata": {
        "id": "m0QZQrsPpLGS"
      },
      "source": [
        "with open('datafile.yaml', 'w') as f:\n",
        "    yaml.dump(data, f, default_flow_style=False)"
      ],
      "execution_count": null,
      "outputs": []
    },
    {
      "cell_type": "code",
      "metadata": {
        "id": "XVTaa0CBpOzy"
      },
      "source": [
        "with open('datafile.yaml', 'r') as f:\n",
        "    print(f.read())"
      ],
      "execution_count": null,
      "outputs": []
    }
  ]
}