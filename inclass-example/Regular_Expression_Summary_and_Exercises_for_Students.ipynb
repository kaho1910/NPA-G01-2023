{
  "cells": [
    {
      "cell_type": "markdown",
      "metadata": {
        "id": "wc7QQAjr_kna"
      },
      "source": [
        "# Regular Expression (re)"
      ]
    },
    {
      "cell_type": "markdown",
      "metadata": {
        "id": "w68trT70zzF9"
      },
      "source": [
        "Regular expressions can be used, for example, to:\n",
        "- After processing the output of show version command, you can collect information about OS version and uptime.\n",
        "- get from log file the lines that correspond to the template.\n",
        "- get from configuration those interfaces that do not have a description"
      ]
    },
    {
      "cell_type": "code",
      "execution_count": null,
      "metadata": {
        "id": "X5epCM7Kajki"
      },
      "outputs": [
        {
          "ename": "",
          "evalue": "",
          "output_type": "error",
          "traceback": [
            "\u001b[1;31mFailed to start the Kernel. \n",
            "\u001b[1;31mJupyter server crashed. Unable to connect. \n",
            "\u001b[1;31mError code from Jupyter: 1\n",
            "\u001b[1;31musage: jupyter.py [-h] [--version] [--config-dir] [--data-dir] [--runtime-dir]\n",
            "\u001b[1;31m                  [--paths] [--json] [--debug]\n",
            "\u001b[1;31m                  [subcommand]\n",
            "\u001b[1;31m\n",
            "\u001b[1;31mJupyter: Interactive Computing\n",
            "\u001b[1;31m\n",
            "\u001b[1;31mpositional arguments:\n",
            "\u001b[1;31m  subcommand     the subcommand to launch\n",
            "\u001b[1;31m\n",
            "\u001b[1;31moptions:\n",
            "\u001b[1;31m  -h, --help     show this help message and exit\n",
            "\u001b[1;31m  --version      show the versions of core jupyter packages and exit\n",
            "\u001b[1;31m  --config-dir   show Jupyter config dir\n",
            "\u001b[1;31m  --data-dir     show Jupyter data dir\n",
            "\u001b[1;31m  --runtime-dir  show Jupyter runtime dir\n",
            "\u001b[1;31m  --paths        show all Jupyter paths. Add --json for machine-readable\n",
            "\u001b[1;31m                 format.\n",
            "\u001b[1;31m  --json         output paths as machine-readable json\n",
            "\u001b[1;31m  --debug        output debug information about paths\n",
            "\u001b[1;31m\n",
            "\u001b[1;31mAvailable subcommands:\n",
            "\u001b[1;31m\n",
            "\u001b[1;31mJupyter command `jupyter-notebook` not found. \n",
            "\u001b[1;31mView Jupyter <a href='command:jupyter.viewOutput'>log</a> for further details."
          ]
        }
      ],
      "source": [
        "import re"
      ]
    },
    {
      "cell_type": "markdown",
      "metadata": {
        "id": "dFYo3d9pt046"
      },
      "source": [
        "Syntax of search function is:\n",
        "match = re.search(pattern, string, flags=0)\n",
        "\n",
        "Function search has three parameters:\n",
        "1.   pattern - regular expression\n",
        "2.   string - string in which search pattern is searched\n",
        "3.   flags - change regex behavior\n"
      ]
    },
    {
      "cell_type": "code",
      "execution_count": null,
      "metadata": {
        "id": "7R2VukqWzipq"
      },
      "outputs": [],
      "source": [
        "help(re)"
      ]
    },
    {
      "cell_type": "code",
      "execution_count": null,
      "metadata": {
        "id": "ShJFp7ASdsAc"
      },
      "outputs": [],
      "source": [
        "int_line = '  MTU 1500 bytes, BW 10000 Kbit, DLY 1000 usec,'"
      ]
    },
    {
      "cell_type": "code",
      "execution_count": null,
      "metadata": {
        "colab": {
          "base_uri": "https://localhost:8080/"
        },
        "id": "HmrvPGbceAkU",
        "outputId": "737bb5ce-0ba4-4154-973d-cd701b61b27c"
      },
      "outputs": [
        {
          "data": {
            "text/plain": [
              "re.Match"
            ]
          },
          "execution_count": 4,
          "metadata": {},
          "output_type": "execute_result"
        }
      ],
      "source": [
        "match = re.search('MTU', int_line)\n",
        "type(match)"
      ]
    },
    {
      "cell_type": "code",
      "execution_count": null,
      "metadata": {
        "colab": {
          "base_uri": "https://localhost:8080/"
        },
        "id": "LV153B3keHeM",
        "outputId": "101d2159-12a0-4456-a7d9-f58baacc3471"
      },
      "outputs": [
        {
          "data": {
            "text/plain": [
              "NoneType"
            ]
          },
          "execution_count": 5,
          "metadata": {},
          "output_type": "execute_result"
        }
      ],
      "source": [
        "match = re.search('MU', int_line)\n",
        "type(match)"
      ]
    },
    {
      "cell_type": "markdown",
      "metadata": {
        "id": "Wqud0D7MuFkB"
      },
      "source": [
        "If a match is found, function will return special object **Match**. If there is no match, function will return\n",
        "**None**."
      ]
    },
    {
      "cell_type": "code",
      "execution_count": null,
      "metadata": {
        "colab": {
          "base_uri": "https://localhost:8080/"
        },
        "id": "y7r_LWc00Za0",
        "outputId": "76ae138b-1904-4662-ae3b-d6de7b23c91a"
      },
      "outputs": [
        {
          "name": "stdout",
          "output_type": "stream",
          "text": [
            "<re.Match object; span=(2, 5), match='MTU'>\n"
          ]
        }
      ],
      "source": [
        "match = re.search('MTU', int_line)\n",
        "print(match)"
      ]
    },
    {
      "cell_type": "code",
      "execution_count": null,
      "metadata": {
        "colab": {
          "base_uri": "https://localhost:8080/"
        },
        "id": "kV0UFRCx0orm",
        "outputId": "f3f04e25-1bbd-4610-a3d7-47ff7a8dfd1f"
      },
      "outputs": [
        {
          "data": {
            "text/plain": [
              "(2, 5)"
            ]
          },
          "execution_count": 7,
          "metadata": {},
          "output_type": "execute_result"
        }
      ],
      "source": [
        "match.span()"
      ]
    },
    {
      "cell_type": "code",
      "execution_count": null,
      "metadata": {
        "colab": {
          "base_uri": "https://localhost:8080/",
          "height": 35
        },
        "id": "E-DAuCuU0xRn",
        "outputId": "8f99d1f1-d965-477c-a2ad-84710d65505a"
      },
      "outputs": [
        {
          "data": {
            "application/vnd.google.colaboratory.intrinsic+json": {
              "type": "string"
            },
            "text/plain": [
              "'MTU'"
            ]
          },
          "execution_count": 8,
          "metadata": {},
          "output_type": "execute_result"
        }
      ],
      "source": [
        "int_line[match.span()[0]:match.span()[1]]"
      ]
    },
    {
      "cell_type": "code",
      "execution_count": null,
      "metadata": {
        "colab": {
          "base_uri": "https://localhost:8080/",
          "height": 35
        },
        "id": "LIJ3g_Or1kzA",
        "outputId": "131b7b6d-c0d4-4f64-c327-de754c29492a"
      },
      "outputs": [
        {
          "data": {
            "application/vnd.google.colaboratory.intrinsic+json": {
              "type": "string"
            },
            "text/plain": [
              "'MTU'"
            ]
          },
          "execution_count": 9,
          "metadata": {},
          "output_type": "execute_result"
        }
      ],
      "source": [
        "match.group()"
      ]
    },
    {
      "cell_type": "markdown",
      "metadata": {
        "id": "xkV3zjJ2udoH"
      },
      "source": [
        "Python has special designations for character sets:\n",
        "- \\d - any digit\n",
        "- \\D - any non-numeric value\n",
        "- \\s - whitespace character\n",
        "- \\S - all except whitespace characters\n",
        "- \\w - any letter, digit or underline character\n",
        "- \\W - all except letter, digit or underline character"
      ]
    },
    {
      "cell_type": "markdown",
      "metadata": {
        "id": "ZbCerxbIweeZ"
      },
      "source": [
        "Repeating character sets:\n",
        "- regex+ - one or more repetitions of preceding element\n",
        "- regex* - zero or more repetitions of preceding element\n",
        "- regex? – zero or one repetition of preceding element\n",
        "- regex{n} - exactly n repetitions of preceding element\n",
        "- regex{n,m} - from n to m repetitions of preceding element\n",
        "- regex{n,} - n or more repetitions of preceding element"
      ]
    },
    {
      "cell_type": "code",
      "execution_count": null,
      "metadata": {
        "id": "rwf64v8t07F4"
      },
      "outputs": [],
      "source": [
        "match = re.search('MTU \\d+', int_line)"
      ]
    },
    {
      "cell_type": "code",
      "execution_count": null,
      "metadata": {
        "colab": {
          "base_uri": "https://localhost:8080/",
          "height": 35
        },
        "id": "afSjNu8p2Uxi",
        "outputId": "c20a5e91-7726-41ea-c2a6-b84a8bce7faa"
      },
      "outputs": [
        {
          "data": {
            "application/vnd.google.colaboratory.intrinsic+json": {
              "type": "string"
            },
            "text/plain": [
              "'MTU 1500'"
            ]
          },
          "execution_count": 11,
          "metadata": {},
          "output_type": "execute_result"
        }
      ],
      "source": [
        "match.group()"
      ]
    },
    {
      "cell_type": "code",
      "execution_count": null,
      "metadata": {
        "id": "LqJmdE8E21OL"
      },
      "outputs": [],
      "source": [
        "match = re.search('(MTU) (\\d+)', int_line)"
      ]
    },
    {
      "cell_type": "code",
      "execution_count": null,
      "metadata": {
        "colab": {
          "base_uri": "https://localhost:8080/",
          "height": 35
        },
        "id": "ez8Paq4B24pA",
        "outputId": "26f9b8a6-31c4-4756-fe8d-c4ac2506a0f3"
      },
      "outputs": [
        {
          "data": {
            "application/vnd.google.colaboratory.intrinsic+json": {
              "type": "string"
            },
            "text/plain": [
              "'MTU 1500'"
            ]
          },
          "execution_count": 18,
          "metadata": {},
          "output_type": "execute_result"
        }
      ],
      "source": [
        "match.group()"
      ]
    },
    {
      "cell_type": "code",
      "execution_count": null,
      "metadata": {
        "colab": {
          "base_uri": "https://localhost:8080/",
          "height": 35
        },
        "id": "fVxtF8hy27kE",
        "outputId": "81d04f42-b625-4d13-c892-d88e76ed28fc"
      },
      "outputs": [
        {
          "data": {
            "application/vnd.google.colaboratory.intrinsic+json": {
              "type": "string"
            },
            "text/plain": [
              "'MTU 1500'"
            ]
          },
          "execution_count": 19,
          "metadata": {},
          "output_type": "execute_result"
        }
      ],
      "source": [
        "match.group(0)"
      ]
    },
    {
      "cell_type": "code",
      "execution_count": null,
      "metadata": {
        "colab": {
          "base_uri": "https://localhost:8080/",
          "height": 35
        },
        "id": "JM2vFVLu2-Gq",
        "outputId": "3319de1e-91e4-4400-cf04-2010e551d122"
      },
      "outputs": [
        {
          "data": {
            "application/vnd.google.colaboratory.intrinsic+json": {
              "type": "string"
            },
            "text/plain": [
              "'MTU'"
            ]
          },
          "execution_count": 20,
          "metadata": {},
          "output_type": "execute_result"
        }
      ],
      "source": [
        "match.group(1)"
      ]
    },
    {
      "cell_type": "code",
      "execution_count": null,
      "metadata": {
        "colab": {
          "base_uri": "https://localhost:8080/",
          "height": 35
        },
        "id": "EsMvk0VC2V3Z",
        "outputId": "0c281e3b-82f6-4b52-d067-dad23bac3fbb"
      },
      "outputs": [
        {
          "data": {
            "application/vnd.google.colaboratory.intrinsic+json": {
              "type": "string"
            },
            "text/plain": [
              "'1500'"
            ]
          },
          "execution_count": 21,
          "metadata": {},
          "output_type": "execute_result"
        }
      ],
      "source": [
        "match.group(2)"
      ]
    },
    {
      "cell_type": "code",
      "execution_count": null,
      "metadata": {
        "colab": {
          "base_uri": "https://localhost:8080/",
          "height": 35
        },
        "id": "HNXxczlFvBQY",
        "outputId": "c90c2cee-a73d-42a9-f20a-6d5ed6c7bfd4"
      },
      "outputs": [
        {
          "data": {
            "application/vnd.google.colaboratory.intrinsic+json": {
              "type": "string"
            },
            "text/plain": [
              "'aa'"
            ]
          },
          "execution_count": 22,
          "metadata": {},
          "output_type": "execute_result"
        }
      ],
      "source": [
        "line = '100 aab1.a1a1.a5d3 FastEthernet0/1'\n",
        "re.search('a+', line).group()"
      ]
    },
    {
      "cell_type": "code",
      "execution_count": null,
      "metadata": {
        "colab": {
          "base_uri": "https://localhost:8080/",
          "height": 35
        },
        "id": "5Iulrdo7wvUD",
        "outputId": "96491d87-fecb-498a-da16-33746d6c9262"
      },
      "outputs": [
        {
          "data": {
            "application/vnd.google.colaboratory.intrinsic+json": {
              "type": "string"
            },
            "text/plain": [
              "'a1a1'"
            ]
          },
          "execution_count": 23,
          "metadata": {},
          "output_type": "execute_result"
        }
      ],
      "source": [
        "re.search('(a1)+', line).group()"
      ]
    },
    {
      "cell_type": "markdown",
      "metadata": {
        "id": "PGuWmFVcxk6b"
      },
      "source": [
        "Special symbols\n",
        "- . - any character except new line character\n",
        "- ^ - beginning of line\n",
        "- $ - end of line\n",
        "- [abc] - any symbol in square brackets\n",
        "- [^abc] - any symbol except those in square brackets\n",
        "- a|b - element a or b\n",
        "- (regex) - expression is treated as one element. In addition, substring that matches an expression is memorized"
      ]
    },
    {
      "cell_type": "code",
      "execution_count": null,
      "metadata": {
        "id": "PnJXeky3m04q"
      },
      "outputs": [],
      "source": [
        "int_line = '  MTU 1500 bytes, BW 10000 Kbit, DLY 1000 usec,'"
      ]
    },
    {
      "cell_type": "code",
      "execution_count": null,
      "metadata": {
        "id": "OSbUfIOv4GCR"
      },
      "outputs": [],
      "source": [
        "match = re.search('MTU (\\d+) .* BW (\\d+) .* DLY (\\d+)', int_line)"
      ]
    },
    {
      "cell_type": "code",
      "execution_count": null,
      "metadata": {
        "colab": {
          "base_uri": "https://localhost:8080/",
          "height": 35
        },
        "id": "YV3TvJ__4X86",
        "outputId": "78d3ff67-653a-499a-cb55-9fda51d0569d"
      },
      "outputs": [
        {
          "data": {
            "application/vnd.google.colaboratory.intrinsic+json": {
              "type": "string"
            },
            "text/plain": [
              "'MTU 1500 bytes, BW 10000 Kbit, DLY 1000'"
            ]
          },
          "execution_count": 26,
          "metadata": {},
          "output_type": "execute_result"
        }
      ],
      "source": [
        "match.group()"
      ]
    },
    {
      "cell_type": "code",
      "execution_count": null,
      "metadata": {
        "colab": {
          "base_uri": "https://localhost:8080/"
        },
        "id": "7pIbfu864ZfP",
        "outputId": "1d7b7c31-a4be-42c2-8bd3-aa63596807c0"
      },
      "outputs": [
        {
          "name": "stdout",
          "output_type": "stream",
          "text": [
            "MTU 1500 bytes, BW 10000 Kbit, DLY 1000\n",
            "1500\n",
            "10000\n",
            "1000\n"
          ]
        }
      ],
      "source": [
        "print(match.group(0))\n",
        "print(match.group(1))\n",
        "print(match.group(2))\n",
        "print(match.group(3))"
      ]
    },
    {
      "cell_type": "code",
      "execution_count": null,
      "metadata": {
        "colab": {
          "base_uri": "https://localhost:8080/"
        },
        "id": "0ANXHiLVmpqf",
        "outputId": "6b161b47-d1a3-4b04-9172-2280e44795bb"
      },
      "outputs": [
        {
          "data": {
            "text/plain": [
              "('1500', '10000', '1000')"
            ]
          },
          "execution_count": 28,
          "metadata": {},
          "output_type": "execute_result"
        }
      ],
      "source": [
        "match.groups()"
      ]
    },
    {
      "cell_type": "code",
      "execution_count": null,
      "metadata": {
        "colab": {
          "base_uri": "https://localhost:8080/"
        },
        "id": "q-oRISXyqOLz",
        "outputId": "2a587247-ab7f-4b68-c856-6866832fe589"
      },
      "outputs": [
        {
          "name": "stdout",
          "output_type": "stream",
          "text": [
            "1500\n",
            "10000\n",
            "1000\n"
          ]
        }
      ],
      "source": [
        "print(match.groups()[0])\n",
        "print(match.groups()[1])\n",
        "print(match.groups()[2])"
      ]
    },
    {
      "cell_type": "markdown",
      "metadata": {
        "id": "4RLyUb8p5JMi"
      },
      "source": [
        "**Exercise 1**: Find time (HH:MM:SS)"
      ]
    },
    {
      "cell_type": "code",
      "execution_count": null,
      "metadata": {
        "id": "3J04qNQHhmYB"
      },
      "outputs": [],
      "source": [
        "log = '*Jul 7 06:15:18.695: %LINEPROTO-5-UPDOWN: Line protocol on Interface Ethernet0/3, changed state to down'"
      ]
    },
    {
      "cell_type": "code",
      "execution_count": null,
      "metadata": {
        "colab": {
          "base_uri": "https://localhost:8080/",
          "height": 35
        },
        "id": "Ap2KgK8cA2mp",
        "outputId": "823e7c10-a033-4fa2-b860-c657a29221cb"
      },
      "outputs": [
        {
          "data": {
            "application/vnd.google.colaboratory.intrinsic+json": {
              "type": "string"
            },
            "text/plain": [
              "'06:15:18'"
            ]
          },
          "execution_count": 31,
          "metadata": {},
          "output_type": "execute_result"
        }
      ],
      "source": [
        "match = re.search('\\d+:\\d+:\\d+', log)\n",
        "match.group()"
      ]
    },
    {
      "cell_type": "markdown",
      "metadata": {
        "id": "LpHM48cn8Z5w"
      },
      "source": [
        "**Exercise 2**: Find MAC address"
      ]
    },
    {
      "cell_type": "code",
      "execution_count": null,
      "metadata": {
        "id": "jraC_ZRTuxgn"
      },
      "outputs": [],
      "source": [
        "log2 = 'Jun 3 14:39:05.941: %SW_MATM-4-MACFLAP_NOTIF: Host f03a.b216.7ad7 in vlan 10 is flapping between port Gi0/5 and port Gi0/15'"
      ]
    },
    {
      "cell_type": "code",
      "execution_count": null,
      "metadata": {
        "colab": {
          "base_uri": "https://localhost:8080/",
          "height": 35
        },
        "id": "I4buO_sEBXwB",
        "outputId": "0047a6b9-22b8-4144-a25f-f0bb864c9460"
      },
      "outputs": [
        {
          "data": {
            "application/vnd.google.colaboratory.intrinsic+json": {
              "type": "string"
            },
            "text/plain": [
              "'Host f03a.b216.7ad7 in'"
            ]
          },
          "execution_count": 54,
          "metadata": {},
          "output_type": "execute_result"
        }
      ],
      "source": [
        "match = re.search('Host (.*) in', log2)\n",
        "match.group()"
      ]
    },
    {
      "cell_type": "code",
      "execution_count": null,
      "metadata": {
        "colab": {
          "base_uri": "https://localhost:8080/",
          "height": 35
        },
        "id": "jBBH5TEGGEaZ",
        "outputId": "526fb4f5-1b8d-40cf-fef3-483f7336f8e7"
      },
      "outputs": [
        {
          "data": {
            "application/vnd.google.colaboratory.intrinsic+json": {
              "type": "string"
            },
            "text/plain": [
              "'f03a.b216.7ad7'"
            ]
          },
          "execution_count": 84,
          "metadata": {},
          "output_type": "execute_result"
        }
      ],
      "source": [
        "match = re.search('([0-9a-f]{4}.[0-9a-f]{4}.[0-9a-f]{4})', log2)\n",
        "match.group()"
      ]
    },
    {
      "cell_type": "markdown",
      "metadata": {
        "id": "aQxKt2Rf_zru"
      },
      "source": [
        "**Exercise 3**: Find MAC address and Flapping Ports"
      ]
    },
    {
      "cell_type": "code",
      "execution_count": null,
      "metadata": {
        "id": "hP9Qzp1K_7Wq"
      },
      "outputs": [],
      "source": [
        "log2 = 'Jun 3 14:39:05.941: %SW_MATM-4-MACFLAP_NOTIF: Host f03a.b216.7ad7 in vlan 10 is flapping between port Gi0/5 and port Gi0/15'"
      ]
    },
    {
      "cell_type": "code",
      "execution_count": null,
      "metadata": {
        "colab": {
          "base_uri": "https://localhost:8080/"
        },
        "id": "p9PsYRO_Bqnq",
        "outputId": "1dc3db5d-52b6-4abc-9bca-3a15fa0e5cc2"
      },
      "outputs": [
        {
          "name": "stdout",
          "output_type": "stream",
          "text": [
            "('f03a.b216.7ad7', 'Gi0/5', 'Gi0/15')\n"
          ]
        }
      ],
      "source": [
        "match = re.search('Host (.*) in .* (\\w{2}\\d/\\d+) and port (\\w+\\d+/\\d+)', log2)\n",
        "print(match.groups())"
      ]
    },
    {
      "cell_type": "markdown",
      "metadata": {
        "id": "4wGM9auNrJCj"
      },
      "source": [
        "**Exercise 4**: Find number of interfaces that are down"
      ]
    },
    {
      "cell_type": "code",
      "execution_count": null,
      "metadata": {
        "id": "R7vaNNRiqteN"
      },
      "outputs": [],
      "source": [
        "sh_ip_int_br = \"\"\"Router# show ip interface brief\n",
        "Interface             IP-Address      OK?    Method Status     \tProtocol\n",
        "GigabitEthernet0/1    unassigned      YES    unset  up         \tup\n",
        "GigabitEthernet0/2    192.168.190.235 YES    unset  up         \tup\n",
        "GigabitEthernet0/3    unassigned      YES    unset  up         \tup\n",
        "GigabitEthernet0/4    192.168.191.2   YES    unset  up         \tup\n",
        "TenGigabitEthernet2/1 unassigned      YES    unset  up         \tup\n",
        "TenGigabitEthernet2/2 unassigned      YES    unset  up         \tup\n",
        "TenGigabitEthernet2/3 unassigned      YES    unset  up         \tup\n",
        "TenGigabitEthernet2/4 unassigned      YES    unset  down       \tdown\n",
        "GigabitEthernet36/1   unassigned      YES    unset  down        down\n",
        "GigabitEthernet36/2   unassigned      YES    unset  down        down\n",
        "GigabitEthernet36/11  unassigned      YES    unset  down       \tdown\n",
        "GigabitEthernet36/25  unassigned      YES    unset  down       \tdown\n",
        "Te36/45               unassigned      YES    unset  down       \tdown\n",
        "Te36/46               unassigned      YES    unset  down       \tdown\n",
        "Te36/47               unassigned      YES    unset  down       \tdown\n",
        "Te36/48               unassigned      YES    unset  down       \tdown\n",
        "Virtual36             unassigned      YES    unset  up         \tup\"\"\""
      ]
    },
    {
      "cell_type": "code",
      "execution_count": null,
      "metadata": {
        "colab": {
          "base_uri": "https://localhost:8080/",
          "height": 187
        },
        "id": "XTjHbKuMEauv",
        "outputId": "a19eb40b-948e-4fed-8cea-d35f8aa8f2d4"
      },
      "outputs": [
        {
          "ename": "AttributeError",
          "evalue": "ignored",
          "output_type": "error",
          "traceback": [
            "\u001b[0;31m---------------------------------------------------------------------------\u001b[0m",
            "\u001b[0;31mAttributeError\u001b[0m                            Traceback (most recent call last)",
            "\u001b[0;32m<ipython-input-100-d97688107624>\u001b[0m in \u001b[0;36m<module>\u001b[0;34m\u001b[0m\n\u001b[1;32m      1\u001b[0m \u001b[0mmatch\u001b[0m \u001b[0;34m=\u001b[0m \u001b[0mre\u001b[0m\u001b[0;34m.\u001b[0m\u001b[0msearch\u001b[0m\u001b[0;34m(\u001b[0m\u001b[0;34m'down$'\u001b[0m\u001b[0;34m,\u001b[0m \u001b[0msh_ip_int_br\u001b[0m\u001b[0;34m)\u001b[0m\u001b[0;34m\u001b[0m\u001b[0;34m\u001b[0m\u001b[0m\n\u001b[0;32m----> 2\u001b[0;31m \u001b[0mmatch\u001b[0m\u001b[0;34m.\u001b[0m\u001b[0mgroups\u001b[0m\u001b[0;34m(\u001b[0m\u001b[0;34m)\u001b[0m\u001b[0;34m\u001b[0m\u001b[0;34m\u001b[0m\u001b[0m\n\u001b[0m",
            "\u001b[0;31mAttributeError\u001b[0m: 'NoneType' object has no attribute 'groups'"
          ]
        }
      ],
      "source": [
        "match = re.search('down$', sh_ip_int_br)\n",
        "match.groups()"
      ]
    },
    {
      "cell_type": "markdown",
      "metadata": {
        "id": "MSxnvPID3hC7"
      },
      "source": [
        "**Exercise 5**: Show interface name that has an IP address and interface status is up up."
      ]
    },
    {
      "cell_type": "code",
      "execution_count": null,
      "metadata": {
        "id": "6yFN9A_TrcQz"
      },
      "outputs": [],
      "source": [
        "sh_ip_int_br = \"\"\"Router# show ip interface brief\n",
        "Interface             IP-Address      OK?    Method Status     \tProtocol\n",
        "GigabitEthernet0/1    unassigned      YES    unset  up         \tup\n",
        "GigabitEthernet0/2    192.168.190.235 YES    unset  up         \tup\n",
        "GigabitEthernet0/3    unassigned      YES    unset  up         \tup\n",
        "GigabitEthernet0/4    192.168.191.2   YES    unset  up         \tup\n",
        "TenGigabitEthernet2/1 unassigned      YES    unset  up         \tup\n",
        "TenGigabitEthernet2/2 unassigned      YES    unset  up         \tup\n",
        "TenGigabitEthernet2/3 unassigned      YES    unset  up         \tup\n",
        "TenGigabitEthernet2/4 192.168.192.2   YES    unset  down       \tdown\n",
        "GigabitEthernet36/1   unassigned      YES    unset  down        down\n",
        "GigabitEthernet36/2   unassigned      YES    unset  down        down\n",
        "GigabitEthernet36/11  unassigned      YES    unset  down       \tdown\n",
        "GigabitEthernet36/25  unassigned      YES    unset  down       \tdown\n",
        "Te36/45               unassigned      YES    unset  down       \tdown\n",
        "Te36/46               unassigned      YES    unset  down       \tdown\n",
        "Te36/47               unassigned      YES    unset  down       \tdown\n",
        "Te36/48               unassigned      YES    unset  down       \tdown\n",
        "Virtual36             unassigned      YES    unset  up         \tup\"\"\""
      ]
    }
  ],
  "metadata": {
    "colab": {
      "provenance": []
    },
    "kernelspec": {
      "display_name": ".venv",
      "language": "python",
      "name": "python3"
    },
    "language_info": {
      "name": "python",
      "version": "3.10.9"
    },
    "vscode": {
      "interpreter": {
        "hash": "6367347962278740cd81c2b08005a2bcca27b19071f5081b1728432e88b56995"
      }
    }
  },
  "nbformat": 4,
  "nbformat_minor": 0
}
